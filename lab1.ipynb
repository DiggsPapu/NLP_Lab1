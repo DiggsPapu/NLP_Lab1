{
 "cells": [
  {
   "cell_type": "markdown",
   "id": "33e074d0",
   "metadata": {},
   "source": [
    "NOMBRES:\n",
    "Diego Andrés\n",
    "APELLIDOS:\n",
    "Alonzo Medinilla\n",
    "CARNE:\n",
    "20172\n",
    "FECHA:2025-07-10"
   ]
  },
  {
   "cell_type": "markdown",
   "id": "bd038b9d",
   "metadata": {},
   "source": [
    "## Reglas del comportamiento\n",
    "\n",
    "1. La conversación **solo puede comenzar si el usuario saluda**.  \n",
    "   Si no hay saludo inicial, Eliza debe responder:  \n",
    "   > \"Es importante iniciar una conversación con un saludo.\"\n",
    "\n",
    "2. Una vez iniciado con un saludo:\n",
    "   - Si el usuario menciona **el nombre del bot (\"Eliza\")**, debe responder:  \n",
    "     > \"Hola, ¿cómo estás?\"\n",
    "   - Si el usuario utiliza **un apodo ofensivo** (ej: \"tonta\"), debe responder:  \n",
    "     > \"No me trates así.\"\n",
    "   - Si el mensaje coincide con **uno de los 5 patrones definidos**, responde de forma adecuada.\n",
    "   - Si no coincide con nada anterior, responde con algo neutro como:  \n",
    "     > \"No puedo comprender tu comentario\""
   ]
  },
  {
   "cell_type": "code",
   "execution_count": 1,
   "id": "00ff1961",
   "metadata": {},
   "outputs": [],
   "source": [
    "import re"
   ]
  },
  {
   "cell_type": "code",
   "execution_count": 29,
   "id": "5e9fe086",
   "metadata": {},
   "outputs": [],
   "source": [
    "def check_valid_salute(input:str):\n",
    "    return re.search(r\"(Hi|Hello|Hey|Greetings|Salutations|Hola|Buenos dias|Buenas|Saludos|Hey|oli)\", input, re.IGNORECASE).span()[1]\n",
    "def check_bot_name_pattern(input:str):\n",
    "    return re.search(r\"(Eliza|Robotin|Robo|Robotin3000)\", input, re.IGNORECASE).span()[1]\n",
    "def check_insults_pattern(input:str):\n",
    "    return re.search(r\"(idiot|stupid|dumb|fool|moron|foolish|ignorant|tont|tarad|imbeci|put|hdp|maldit|bitch|pendej|malparid)\", input, re.IGNORECASE).span()[1]\n",
    "def check_feelings_pattern(input:str):\n",
    "    return re.search(r\"([A-Zaz0-9 ]* +(Esta|Sient|Estoy|Senti|Feel|Felt)[A-Za-z]* +[A-Zaz0-9 ])+\", input, re.IGNORECASE).span()[1]\n",
    "def check_wish_pattern(input:str):\n",
    "    return re.search(r\"([A-Zaz0-9 ]* +(quier|quere|dese|want|like|wish)[A-Za-z]* +[A-Zaz0-9 ])+\", input, re.IGNORECASE).span()[1]\n",
    "def check_work_pattern(input:str):\n",
    "    return re.search(r\"([A-Zaz0-9 ]* +(trabaj|work|chambe)[A-Za-z]* +[A-Zaz0-9 ])+\", input, re.IGNORECASE).span()[1]"
   ]
  },
  {
   "cell_type": "code",
   "execution_count": null,
   "id": "d36bc6ee",
   "metadata": {},
   "outputs": [],
   "source": []
  }
 ],
 "metadata": {
  "kernelspec": {
   "display_name": ".venv",
   "language": "python",
   "name": "python3"
  },
  "language_info": {
   "codemirror_mode": {
    "name": "ipython",
    "version": 3
   },
   "file_extension": ".py",
   "mimetype": "text/x-python",
   "name": "python",
   "nbconvert_exporter": "python",
   "pygments_lexer": "ipython3",
   "version": "3.13.2"
  }
 },
 "nbformat": 4,
 "nbformat_minor": 5
}
