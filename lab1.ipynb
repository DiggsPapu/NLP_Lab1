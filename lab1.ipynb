{
 "cells": [
  {
   "cell_type": "markdown",
   "id": "33e074d0",
   "metadata": {},
   "source": [
    "NOMBRES:\n",
    "Diego Andrés\n",
    "APELLIDOS:\n",
    "Alonzo Medinilla\n",
    "CARNE:\n",
    "20172\n",
    "FECHA:2025-07-10"
   ]
  },
  {
   "cell_type": "markdown",
   "id": "bd038b9d",
   "metadata": {},
   "source": [
    "## Reglas del comportamiento\n",
    "\n",
    "1. La conversación **solo puede comenzar si el usuario saluda**.  \n",
    "   Si no hay saludo inicial, Eliza debe responder:  \n",
    "   > \"Es importante iniciar una conversación con un saludo.\"\n",
    "\n",
    "2. Una vez iniciado con un saludo:\n",
    "   - Si el usuario menciona **el nombre del bot (\"Eliza\")**, debe responder:  \n",
    "     > \"Hola, ¿cómo estás?\"\n",
    "   - Si el usuario utiliza **un apodo ofensivo** (ej: \"tonta\"), debe responder:  \n",
    "     > \"No me trates así.\"\n",
    "   - Si el mensaje coincide con **uno de los 5 patrones definidos**, responde de forma adecuada.\n",
    "   - Si no coincide con nada anterior, responde con algo neutro como:  \n",
    "     > \"No puedo comprender tu comentario\""
   ]
  },
  {
   "cell_type": "code",
   "execution_count": 1,
   "id": "00ff1961",
   "metadata": {},
   "outputs": [],
   "source": [
    "import re\n",
    "import random"
   ]
  },
  {
   "cell_type": "markdown",
   "id": "d7569381",
   "metadata": {},
   "source": [
    "## Bot"
   ]
  },
  {
   "cell_type": "markdown",
   "id": "eecb24bf",
   "metadata": {},
   "source": [
    "### Funciones para detectar los patrones"
   ]
  },
  {
   "cell_type": "code",
   "execution_count": 2,
   "id": "5e9fe086",
   "metadata": {},
   "outputs": [],
   "source": [
    "def check_valid_salute(input:str):\n",
    "    return re.search(r\"(Hi|Hello|Hey|Greetings|Salutations|Hola|Buenos dias|Buenas|Saludos|Hey|oli)\", input, re.IGNORECASE)\n",
    "def check_bot_name_pattern(input:str):\n",
    "    return re.search(r\"(Eliza|Robotin|Robo|Robotin3000)\", input, re.IGNORECASE)\n",
    "def check_insults_pattern(input:str):\n",
    "    return re.search(r\"(idiot|stupid|dumb|fool|moron|foolish|ignorant|tont|tarad|imbeci|put|hdp|maldit|bitch|pendej|malparid|0t|cerote|culo|culo)\", input, re.IGNORECASE)\n",
    "def check_feelings_pattern(input:str):\n",
    "    return re.search(r\"([A-Zaz0-9 ]*(Esta|Sient|Estoy|Senti|Feel|Felt)[A-Za-z]* ?)+\", input, re.IGNORECASE)\n",
    "def check_wish_pattern(input:str):\n",
    "    return re.search(r\"([A-Zaz0-9 ]*(quier|quere|dese|want|like|wish)[A-Za-z]* ?)+\", input, re.IGNORECASE)\n",
    "def check_work_pattern(input:str):\n",
    "    return re.search(r\"([A-Zaz0-9 ]*(trabaj|work|chambe)[A-Za-z]* ?)+\", input, re.IGNORECASE)\n",
    "def check_like_search(input:str):\n",
    "    return re.search(r\"([A-Zaz0-9 ]*(gust|like|enjoy|disfrut)[A-Za-z]* ?)+\", input, re.IGNORECASE)\n",
    "def check_logout_search(input:str):\n",
    "    return re.search(r\"([A-Zaz0-9 ]*(sali|jala|logout|bye|adios|chao|jalo)[A-Za-z]* ?)+\", input, re.IGNORECASE)"
   ]
  },
  {
   "cell_type": "code",
   "execution_count": 3,
   "id": "50ea7382",
   "metadata": {},
   "outputs": [],
   "source": [
    "def init_salute():\n",
    "    inited = False\n",
    "    while not inited:\n",
    "        user_input = input(\"Hola, soy Robotin3000, ¿Cómo te llamas? \")\n",
    "        print(\"Tu input fue: \", user_input)\n",
    "        if check_valid_salute(user_input) != None: \n",
    "            print(\"Robotin3000 dice: \", \"Hola, soy Robotin3000\")\n",
    "            return True \n",
    "        print(\"Robotin3000 dice: \",\"Es importante ser educados e iniciar saludando, ahora salúdame.\")"
   ]
  },
  {
   "cell_type": "markdown",
   "id": "5f894208",
   "metadata": {},
   "source": [
    "### Funciones para seleccionar las respuestas"
   ]
  },
  {
   "cell_type": "code",
   "execution_count": 4,
   "id": "7fbe164d",
   "metadata": {},
   "outputs": [],
   "source": [
    "def select_bot_name_answer(name:str):\n",
    "    return \"Hola, me llamo Robotin3000, ¿Cómo estás?\"\n",
    "\n",
    "def select_insult_answer(insult:str):\n",
    "    return \"Hey muchacho, no seas tan soez.\"\n",
    "\n",
    "def select_feeling_answer(feeling:str):\n",
    "    return random.choice([\n",
    "        f\"Comprendo tu sentimiento de {feeling}\",\n",
    "        f\"Yo a veces tambien me siento {feeling}\",\n",
    "        f\"Deberias ir con el psicologo por eso que sientes {feeling}\",\n",
    "    ])\n",
    "def select_wish_answer(wish:str):\n",
    "    return random.choice([\n",
    "        f\"Yo tambien quiero {wish}\",\n",
    "        f\"¿Quién no quisiera {wish}?\",\n",
    "        f\"Te prometo que tendrás {wish}\",\n",
    "    ])\n",
    "\n",
    "def select_work_answer(work:str):\n",
    "    return random.choice([\n",
    "        f\"Un crack total trabajando en {work}\",\n",
    "        f\"Suena complicado ese {work}?\",\n",
    "        f\"Tú puedes en ese {work}\",\n",
    "    ])\n",
    "    \n",
    "def select_like_answer(like:str):\n",
    "    return random.choice([\n",
    "        f\"A mí también me gusta {like}\",\n",
    "        f\"Es interesante que te guste {like}?\",\n",
    "        f\"Probemos eso que dices, eso de {like}\",\n",
    "    ])\n",
    "    \n",
    "def select_logout_answer(input:str):\n",
    "    return \"Adiós, espero que vuelvas pronto.\""
   ]
  },
  {
   "cell_type": "markdown",
   "id": "7502cc30",
   "metadata": {},
   "source": [
    "### Funcion para detectar y obtener la respuesta"
   ]
  },
  {
   "cell_type": "code",
   "execution_count": 5,
   "id": "a81ef5b6",
   "metadata": {},
   "outputs": [],
   "source": [
    "def get_pattern(input:str):\n",
    "    answer_patterns = [select_bot_name_answer, select_insult_answer, select_feeling_answer, select_wish_answer, select_work_answer, select_like_answer, select_logout_answer]\n",
    "    for index, pattern in enumerate([check_bot_name_pattern, check_insults_pattern, check_feelings_pattern, \n",
    "                check_wish_pattern, check_work_pattern, check_like_search, check_logout_search]):\n",
    "        pattern_match = pattern(input)\n",
    "        if pattern_match is not None:\n",
    "            pattern_match = pattern_match.span()[1]\n",
    "            if index == 6:\n",
    "                return answer_patterns[index](input[pattern_match:].strip()), True\n",
    "            return answer_patterns[index](input[pattern_match:].strip()), False\n",
    "    return None, False"
   ]
  },
  {
   "cell_type": "code",
   "execution_count": 6,
   "id": "d36bc6ee",
   "metadata": {},
   "outputs": [],
   "source": [
    "def bot():\n",
    "    init_salute()\n",
    "    while True:\n",
    "        user_input = input(\"Escribe algo: \")\n",
    "        print(\"Tu input fue: \", user_input)\n",
    "        message, logsout = get_pattern(user_input)\n",
    "        \n",
    "        if message is None:\n",
    "            message = \"Ni idea xd\"\n",
    "        print(\"Robotin3000 dice: \", message)\n",
    "        \n",
    "        if logsout:\n",
    "            break"
   ]
  },
  {
   "cell_type": "code",
   "execution_count": 7,
   "id": "6a4ec6f6",
   "metadata": {},
   "outputs": [
    {
     "name": "stdout",
     "output_type": "stream",
     "text": [
      "Tu input fue:  Quiero comer pizza\n",
      "Robotin3000 dice:  Es importante ser educados e iniciar saludando, ahora salúdame.\n",
      "Tu input fue:  No quiero saludarte\n",
      "Robotin3000 dice:  Es importante ser educados e iniciar saludando, ahora salúdame.\n",
      "Tu input fue:  Hola pues, si no te enojas\n",
      "Robotin3000 dice:  Hola, soy Robotin3000\n",
      "Tu input fue:  Por que te llamas Robotin\n",
      "Robotin3000 dice:  Hola, me llamo Robotin3000, ¿Cómo estás?\n",
      "Tu input fue:  Bien, me siento bien gracias\n",
      "Robotin3000 dice:  Comprendo tu sentimiento de bien gracias\n",
      "Tu input fue:  Quiero ir a comer pizza\n",
      "Robotin3000 dice:  Yo tambien quiero ir a comer pizza\n",
      "Tu input fue:  Yo trabajo en bienes y raices\n",
      "Robotin3000 dice:  Suena complicado ese en bienes y raices?\n",
      "Tu input fue:  Creo que deseo irme a panajachel\n",
      "Robotin3000 dice:  Yo tambien quiero irme a panajachel\n",
      "Tu input fue:  Eres tonto y 0t\n",
      "Robotin3000 dice:  Hey muchacho, no seas tan soez.\n",
      "Tu input fue:  Nos sentimos felices\n",
      "Robotin3000 dice:  Comprendo tu sentimiento de felices\n",
      "Tu input fue:  Eres un pendejo\n",
      "Robotin3000 dice:  Hey muchacho, no seas tan soez.\n",
      "Tu input fue:  Yo disfruto de ir al parque\n",
      "Robotin3000 dice:  Es interesante que te guste de ir al parque?\n",
      "Tu input fue:  Bueno yo jalo\n",
      "Robotin3000 dice:  Adiós, espero que vuelvas pronto.\n"
     ]
    }
   ],
   "source": [
    "bot()"
   ]
  }
 ],
 "metadata": {
  "kernelspec": {
   "display_name": ".venv",
   "language": "python",
   "name": "python3"
  },
  "language_info": {
   "codemirror_mode": {
    "name": "ipython",
    "version": 3
   },
   "file_extension": ".py",
   "mimetype": "text/x-python",
   "name": "python",
   "nbconvert_exporter": "python",
   "pygments_lexer": "ipython3",
   "version": "3.13.2"
  }
 },
 "nbformat": 4,
 "nbformat_minor": 5
}
