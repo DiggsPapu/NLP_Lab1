{
 "cells": [
  {
   "cell_type": "markdown",
   "id": "33e074d0",
   "metadata": {},
   "source": [
    "NOMBRES:\n",
    "Diego Andrés\n",
    "APELLIDOS:\n",
    "Alonzo Medinilla\n",
    "CARNE:\n",
    "20172\n",
    "FECHA:2025-07-10"
   ]
  },
  {
   "cell_type": "markdown",
   "id": "bd038b9d",
   "metadata": {},
   "source": [
    "## Reglas del comportamiento\n",
    "\n",
    "1. La conversación **solo puede comenzar si el usuario saluda**.  \n",
    "   Si no hay saludo inicial, Eliza debe responder:  \n",
    "   > \"Es importante iniciar una conversación con un saludo.\"\n",
    "\n",
    "2. Una vez iniciado con un saludo:\n",
    "   - Si el usuario menciona **el nombre del bot (\"Eliza\")**, debe responder:  \n",
    "     > \"Hola, ¿cómo estás?\"\n",
    "   - Si el usuario utiliza **un apodo ofensivo** (ej: \"tonta\"), debe responder:  \n",
    "     > \"No me trates así.\"\n",
    "   - Si el mensaje coincide con **uno de los 5 patrones definidos**, responde de forma adecuada.\n",
    "   - Si no coincide con nada anterior, responde con algo neutro como:  \n",
    "     > \"No puedo comprender tu comentario\""
   ]
  },
  {
   "cell_type": "code",
   "execution_count": 1,
   "id": "00ff1961",
   "metadata": {},
   "outputs": [],
   "source": [
    "import re\n",
    "import random"
   ]
  },
  {
   "cell_type": "markdown",
   "id": "eecb24bf",
   "metadata": {},
   "source": [
    "## Funciones para detectar los patrones"
   ]
  },
  {
   "cell_type": "code",
   "execution_count": null,
   "id": "5e9fe086",
   "metadata": {},
   "outputs": [],
   "source": [
    "def check_valid_salute(input:str):\n",
    "    return re.search(r\"(Hi|Hello|Hey|Greetings|Salutations|Hola|Buenos dias|Buenas|Saludos|Hey|oli)\", input, re.IGNORECASE)\n",
    "def check_bot_name_pattern(input:str):\n",
    "    return re.search(r\"(Eliza|Robotin|Robo|Robotin3000)\", input, re.IGNORECASE)\n",
    "def check_insults_pattern(input:str):\n",
    "    return re.search(r\"(idiot|stupid|dumb|fool|moron|foolish|ignorant|tont|tarad|imbeci|put|hdp|maldit|bitch|pendej|malparid)\", input, re.IGNORECASE)\n",
    "def check_feelings_pattern(input:str):\n",
    "    return re.search(r\"([A-Zaz0-9 ]* +(Esta|Sient|Estoy|Senti|Feel|Felt)[A-Za-z]* +[A-Zaz0-9 ])+\", input, re.IGNORECASE)\n",
    "def check_wish_pattern(input:str):\n",
    "    return re.search(r\"([A-Zaz0-9 ]* +(quier|quere|dese|want|like|wish)[A-Za-z]* +[A-Zaz0-9 ])+\", input, re.IGNORECASE)\n",
    "def check_work_pattern(input:str):\n",
    "    return re.search(r\"([A-Zaz0-9 ]* +(trabaj|work|chambe)[A-Za-z]* +[A-Zaz0-9 ])+\", input, re.IGNORECASE)\n",
    "def check_like_search(input:str):\n",
    "    return re.search(r\"([A-Zaz0-9 ]* +(gust|like|enjoy|disfrut)[A-Za-z]* +[A-Zaz0-9 ])+\", input, re.IGNORECASE).span()[1]\n",
    "def check_logout_search(input:str):\n",
    "    return re.search(r\"([A-Zaz0-9 ]* +(sali|jala|logout|bye|adios|chao|jalo)[A-Za-z]* +[A-Zaz0-9 ])+\", input, re.IGNORECASE).span()[1]"
   ]
  },
  {
   "cell_type": "markdown",
   "id": "d7569381",
   "metadata": {},
   "source": [
    "## Bot"
   ]
  },
  {
   "cell_type": "code",
   "execution_count": 3,
   "id": "50ea7382",
   "metadata": {},
   "outputs": [],
   "source": [
    "def init_salute():\n",
    "    inited = False\n",
    "    while not inited:\n",
    "        if check_valid_salute(input(\"Hola, soy Robotin3000, ¿Cómo te llamas? \")) != None: \n",
    "            print(\"Hola, soy Robotin3000\") \n",
    "            return True \n",
    "        print(\"Es importante ser educados e iniciar saludando, ahora salúdame.\")"
   ]
  },
  {
   "cell_type": "code",
   "execution_count": 4,
   "id": "7fbe164d",
   "metadata": {},
   "outputs": [],
   "source": [
    "def select_bot_name_answer(name:str):\n",
    "    return \"Hola, me llamo Robotin3000, ¿Cómo estás?\"\n",
    "\n",
    "def select_insult_answer(insult:str):\n",
    "    return \"Hey muchacho, no seas tan soez.\"\n",
    "\n",
    "def select_feeling_answer(feeling:str):\n",
    "    return random.choice([\n",
    "        f\"Comprendo tu sentimiento de {feeling}\",\n",
    "        f\"Yo a veces tambien me siento {feeling}\",\n",
    "        f\"Deberias ir con el psicologo por eso que sientes {feeling}\",\n",
    "    ])\n",
    "def select_wish_answer(wish:str):\n",
    "    return random.choice([\n",
    "        f\"Yo tambien quiero {wish}\",\n",
    "        f\"¿Quién no quisiera {wish}?\",\n",
    "        f\"Te prometo que tendrás {wish}\",\n",
    "    ])\n",
    "\n",
    "def select_work_answer(work:str):\n",
    "    return random.choice([\n",
    "        f\"Un crack total trabajando en {work}\",\n",
    "        f\"Suena complicado ese {work}?\",\n",
    "        f\"Tú puedes en ese {work}\",\n",
    "    ])\n",
    "    \n",
    "def select_like_answer(like:str):\n",
    "    return random.choice([\n",
    "        f\"A mí también me gusta {like}\",\n",
    "        f\"Es interesante que te guste {like}?\",\n",
    "        f\"Probemos eso que dices, eso de {like}\",\n",
    "    ])\n",
    "    \n",
    "def select_logout_answer():\n",
    "    return \"Adiós, espero que vuelvas pronto.\""
   ]
  },
  {
   "cell_type": "code",
   "execution_count": null,
   "id": "a81ef5b6",
   "metadata": {},
   "outputs": [],
   "source": [
    "def get_pattern(input:str):\n",
    "    answer_patterns = [select_bot_name_answer, select_insult_answer, select_feeling_answer, select_wish_answer, select_work_answer, select_like_answer, select_logout_answer]\n",
    "    for index, pattern in enumerate([check_bot_name_pattern, check_insults_pattern, check_feelings_pattern, \n",
    "                check_wish_pattern, check_work_pattern, check_like_search, check_logout_search]):\n",
    "        pattern_match = pattern(input)\n",
    "        if pattern_match is not None:\n",
    "            pattern_match = pattern_match.span()[1]\n",
    "            if index == 6:\n",
    "                return answer_patterns[index](input[pattern_match:]), True\n",
    "            return answer_patterns[index](input[pattern_match:]), False\n",
    "    return None, False"
   ]
  },
  {
   "cell_type": "code",
   "execution_count": 6,
   "id": "d36bc6ee",
   "metadata": {},
   "outputs": [],
   "source": [
    "def bot():\n",
    "    init_salute()\n",
    "    while True:\n",
    "        user_input = input(\"Escribe algo: \")\n",
    "        \n",
    "        message, logsout = get_pattern(user_input)\n",
    "        \n",
    "        if message is None:\n",
    "            print(\"Ni idea xd\")\n",
    "            continue\n",
    "        else: print(message)\n",
    "        if logsout:\n",
    "            break"
   ]
  },
  {
   "cell_type": "code",
   "execution_count": 7,
   "id": "6a4ec6f6",
   "metadata": {},
   "outputs": [
    {
     "name": "stdout",
     "output_type": "stream",
     "text": [
      "Hola, soy Robotin3000\n"
     ]
    },
    {
     "ename": "AttributeError",
     "evalue": "'NoneType' object has no attribute 'span'",
     "output_type": "error",
     "traceback": [
      "\u001b[31m---------------------------------------------------------------------------\u001b[39m",
      "\u001b[31mAttributeError\u001b[39m                            Traceback (most recent call last)",
      "\u001b[36mCell\u001b[39m\u001b[36m \u001b[39m\u001b[32mIn[7]\u001b[39m\u001b[32m, line 1\u001b[39m\n\u001b[32m----> \u001b[39m\u001b[32m1\u001b[39m \u001b[43mbot\u001b[49m\u001b[43m(\u001b[49m\u001b[43m)\u001b[49m\n",
      "\u001b[36mCell\u001b[39m\u001b[36m \u001b[39m\u001b[32mIn[6]\u001b[39m\u001b[32m, line 6\u001b[39m, in \u001b[36mbot\u001b[39m\u001b[34m()\u001b[39m\n\u001b[32m      3\u001b[39m \u001b[38;5;28;01mwhile\u001b[39;00m \u001b[38;5;28;01mTrue\u001b[39;00m:\n\u001b[32m      4\u001b[39m     user_input = \u001b[38;5;28minput\u001b[39m(\u001b[33m\"\u001b[39m\u001b[33mEscribe algo: \u001b[39m\u001b[33m\"\u001b[39m)\n\u001b[32m----> \u001b[39m\u001b[32m6\u001b[39m     message, logsout = \u001b[43mget_pattern\u001b[49m\u001b[43m(\u001b[49m\u001b[43muser_input\u001b[49m\u001b[43m)\u001b[49m\n\u001b[32m      8\u001b[39m     \u001b[38;5;28;01mif\u001b[39;00m message \u001b[38;5;129;01mis\u001b[39;00m \u001b[38;5;28;01mNone\u001b[39;00m:\n\u001b[32m      9\u001b[39m         \u001b[38;5;28mprint\u001b[39m(\u001b[33m\"\u001b[39m\u001b[33mNi idea xd\u001b[39m\u001b[33m\"\u001b[39m)\n",
      "\u001b[36mCell\u001b[39m\u001b[36m \u001b[39m\u001b[32mIn[5]\u001b[39m\u001b[32m, line 5\u001b[39m, in \u001b[36mget_pattern\u001b[39m\u001b[34m(input)\u001b[39m\n\u001b[32m      2\u001b[39m answer_patterns = [select_bot_name_answer, select_insult_answer, select_feeling_answer, select_wish_answer, select_work_answer, select_like_answer, select_logout_answer]\n\u001b[32m      3\u001b[39m \u001b[38;5;28;01mfor\u001b[39;00m index, pattern \u001b[38;5;129;01min\u001b[39;00m \u001b[38;5;28menumerate\u001b[39m([check_bot_name_pattern, check_insults_pattern, check_feelings_pattern, \n\u001b[32m      4\u001b[39m             check_wish_pattern, check_work_pattern, check_like_search, check_logout_search]):\n\u001b[32m----> \u001b[39m\u001b[32m5\u001b[39m     pattern_match = \u001b[43mpattern\u001b[49m\u001b[43m(\u001b[49m\u001b[38;5;28;43minput\u001b[39;49m\u001b[43m)\u001b[49m\n\u001b[32m      6\u001b[39m     \u001b[38;5;28;01mif\u001b[39;00m pattern_match \u001b[38;5;129;01mis\u001b[39;00m \u001b[38;5;129;01mnot\u001b[39;00m \u001b[38;5;28;01mNone\u001b[39;00m:\n\u001b[32m      7\u001b[39m         \u001b[38;5;28;01mif\u001b[39;00m index == \u001b[32m6\u001b[39m:\n",
      "\u001b[36mCell\u001b[39m\u001b[36m \u001b[39m\u001b[32mIn[2]\u001b[39m\u001b[32m, line 4\u001b[39m, in \u001b[36mcheck_bot_name_pattern\u001b[39m\u001b[34m(input)\u001b[39m\n\u001b[32m      3\u001b[39m \u001b[38;5;28;01mdef\u001b[39;00m\u001b[38;5;250m \u001b[39m\u001b[34mcheck_bot_name_pattern\u001b[39m(\u001b[38;5;28minput\u001b[39m:\u001b[38;5;28mstr\u001b[39m):\n\u001b[32m----> \u001b[39m\u001b[32m4\u001b[39m     \u001b[38;5;28;01mreturn\u001b[39;00m \u001b[43mre\u001b[49m\u001b[43m.\u001b[49m\u001b[43msearch\u001b[49m\u001b[43m(\u001b[49m\u001b[33;43mr\u001b[39;49m\u001b[33;43m\"\u001b[39;49m\u001b[33;43m(Eliza|Robotin|Robo|Robotin3000)\u001b[39;49m\u001b[33;43m\"\u001b[39;49m\u001b[43m,\u001b[49m\u001b[43m \u001b[49m\u001b[38;5;28;43minput\u001b[39;49m\u001b[43m,\u001b[49m\u001b[43m \u001b[49m\u001b[43mre\u001b[49m\u001b[43m.\u001b[49m\u001b[43mIGNORECASE\u001b[49m\u001b[43m)\u001b[49m\u001b[43m.\u001b[49m\u001b[43mspan\u001b[49m()[\u001b[32m1\u001b[39m]\n",
      "\u001b[31mAttributeError\u001b[39m: 'NoneType' object has no attribute 'span'"
     ]
    }
   ],
   "source": [
    "bot()"
   ]
  }
 ],
 "metadata": {
  "kernelspec": {
   "display_name": ".venv",
   "language": "python",
   "name": "python3"
  },
  "language_info": {
   "codemirror_mode": {
    "name": "ipython",
    "version": 3
   },
   "file_extension": ".py",
   "mimetype": "text/x-python",
   "name": "python",
   "nbconvert_exporter": "python",
   "pygments_lexer": "ipython3",
   "version": "3.13.2"
  }
 },
 "nbformat": 4,
 "nbformat_minor": 5
}
