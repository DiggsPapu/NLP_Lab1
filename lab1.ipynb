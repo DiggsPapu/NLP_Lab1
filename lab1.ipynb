{
 "cells": [
  {
   "cell_type": "markdown",
   "id": "33e074d0",
   "metadata": {},
   "source": [
    "NOMBRES:\n",
    "Diego Andrés\n",
    "APELLIDOS:\n",
    "Alonzo Medinilla\n",
    "CARNE:\n",
    "20172\n",
    "FECHA:2025-07-10"
   ]
  },
  {
   "cell_type": "markdown",
   "id": "bd038b9d",
   "metadata": {},
   "source": [
    "## Reglas del comportamiento\n",
    "\n",
    "1. La conversación **solo puede comenzar si el usuario saluda**.  \n",
    "   Si no hay saludo inicial, Eliza debe responder:  \n",
    "   > \"Es importante iniciar una conversación con un saludo.\"\n",
    "\n",
    "2. Una vez iniciado con un saludo:\n",
    "   - Si el usuario menciona **el nombre del bot (\"Eliza\")**, debe responder:  \n",
    "     > \"Hola, ¿cómo estás?\"\n",
    "   - Si el usuario utiliza **un apodo ofensivo** (ej: \"tonta\"), debe responder:  \n",
    "     > \"No me trates así.\"\n",
    "   - Si el mensaje coincide con **uno de los 5 patrones definidos**, responde de forma adecuada.\n",
    "   - Si no coincide con nada anterior, responde con algo neutro como:  \n",
    "     > \"No puedo comprender tu comentario\""
   ]
  },
  {
   "cell_type": "code",
   "execution_count": 31,
   "id": "00ff1961",
   "metadata": {},
   "outputs": [],
   "source": [
    "import re\n",
    "import random"
   ]
  },
  {
   "cell_type": "markdown",
   "id": "eecb24bf",
   "metadata": {},
   "source": [
    "## Funciones para detectar los patrones"
   ]
  },
  {
   "cell_type": "code",
   "execution_count": 30,
   "id": "5e9fe086",
   "metadata": {},
   "outputs": [],
   "source": [
    "def check_valid_salute(input:str):\n",
    "    return re.search(r\"(Hi|Hello|Hey|Greetings|Salutations|Hola|Buenos dias|Buenas|Saludos|Hey|oli)\", input, re.IGNORECASE).span()[1]\n",
    "def check_bot_name_pattern(input:str):\n",
    "    return re.search(r\"(Eliza|Robotin|Robo|Robotin3000)\", input, re.IGNORECASE).span()[1]\n",
    "def check_insults_pattern(input:str):\n",
    "    return re.search(r\"(idiot|stupid|dumb|fool|moron|foolish|ignorant|tont|tarad|imbeci|put|hdp|maldit|bitch|pendej|malparid)\", input, re.IGNORECASE).span()[1]\n",
    "def check_feelings_pattern(input:str):\n",
    "    return re.search(r\"([A-Zaz0-9 ]* +(Esta|Sient|Estoy|Senti|Feel|Felt)[A-Za-z]* +[A-Zaz0-9 ])+\", input, re.IGNORECASE).span()[1]\n",
    "def check_wish_pattern(input:str):\n",
    "    return re.search(r\"([A-Zaz0-9 ]* +(quier|quere|dese|want|like|wish)[A-Za-z]* +[A-Zaz0-9 ])+\", input, re.IGNORECASE).span()[1]\n",
    "def check_work_pattern(input:str):\n",
    "    return re.search(r\"([A-Zaz0-9 ]* +(trabaj|work|chambe)[A-Za-z]* +[A-Zaz0-9 ])+\", input, re.IGNORECASE).span()[1]\n",
    "def check_like_search(input:str):\n",
    "    return re.search(r\"([A-Zaz0-9 ]* +(gust|like|enjoy|disfrut)[A-Za-z]* +[A-Zaz0-9 ])+\", input, re.IGNORECASE).span()[1]\n",
    "def check_logout_search(input:str):\n",
    "    return re.search(r\"([A-Zaz0-9 ]* +(sali|jala|logout|bye|adios|chao|jalo)[A-Za-z]* +[A-Zaz0-9 ])+\", input, re.IGNORECASE).span()[1]"
   ]
  },
  {
   "cell_type": "markdown",
   "id": "d7569381",
   "metadata": {},
   "source": [
    "## Bot"
   ]
  },
  {
   "cell_type": "code",
   "execution_count": null,
   "id": "50ea7382",
   "metadata": {},
   "outputs": [],
   "source": [
    "def init_salute():\n",
    "    inited = False\n",
    "    while not inited:\n",
    "        if check_valid_salute(input(\"Hola, soy Robotin3000, ¿Cómo te llamas? \")) != None: \n",
    "            print(\"Hola, soy Robotin3000\") \n",
    "            return True \n",
    "        print(\"Es importante ser educados e iniciar saludando, ahora salúdame.\")"
   ]
  },
  {
   "cell_type": "code",
   "execution_count": null,
   "id": "7fbe164d",
   "metadata": {},
   "outputs": [],
   "source": [
    "\n",
    "def select_feeling_answer(feeling:str):\n",
    "    return random.choice([\n",
    "        f\"Comprendo tu sentimiento de {feeling}\",\n",
    "        f\"Yo a veces tambien me siento {feeling}\",\n",
    "        f\"Deberias ir con el psicologo por eso que sientes {feeling}\",\n",
    "    ])\n",
    "def select_wish_answer(wish:str):\n",
    "    return random.choice([\n",
    "        f\"Yo tambien quiero {wish}\",\n",
    "        f\"¿Quién no quisiera {wish}?\",\n",
    "        f\"Te prometo que tendrás {wish}\",\n",
    "    ])\n",
    "\n",
    "def select_work_answer(work:str):\n",
    "    return random.choice([\n",
    "        f\"Un crack total trabajando en {work}\",\n",
    "        f\"Suena complicado ese {work}?\",\n",
    "        f\"Tú puedes en ese {work}\",\n",
    "    ])\n",
    "    \n",
    "def select_like_answer(like:str):\n",
    "    return random.choice([\n",
    "        f\"A mí también me gusta {like}\",\n",
    "        f\"Es interesante que te guste {like}?\",\n",
    "        f\"Probemos eso que dices, eso de {like}\",\n",
    "    ])"
   ]
  },
  {
   "cell_type": "code",
   "execution_count": null,
   "id": "d36bc6ee",
   "metadata": {},
   "outputs": [],
   "source": [
    "def bot():\n",
    "    init_salute()\n",
    "    while True:\n",
    "        user_input = input(\"Escribe algo: \")\n",
    "        if check_logout_search(user_input):\n",
    "            print(\"Adiós, espero haberte ayudado.\")\n",
    "            break\n",
    "        elif check_bot_name_pattern(user_input):\n",
    "            print(\"Hola, me llamo robotin3000, ¿Cómo estás?\")\n",
    "        elif check_insults_pattern(user_input):\n",
    "            print(\"Hey muchacho, no seas tan soez.\")\n",
    "        elif check_feelings_pattern(user_input):\n",
    "            print(\"Entiendo que te sientes así. ¿Quieres hablar más sobre ello?\")\n",
    "        elif check_wish_pattern(user_input):\n",
    "            print(\"Claro, puedo ayudarte con eso.\")\n",
    "        elif check_work_pattern(user_input):\n",
    "            print(\"El trabajo es importante, ¿en qué puedo ayudarte con eso?\")\n",
    "        elif check_like_search(user_input):\n",
    "            print(\"Me alegra que tengas intereses. ¿Quieres hablar más sobre ellos?\")\n",
    "        else:\n",
    "            print(\"Ni idea xd\")"
   ]
  }
 ],
 "metadata": {
  "kernelspec": {
   "display_name": ".venv",
   "language": "python",
   "name": "python3"
  },
  "language_info": {
   "codemirror_mode": {
    "name": "ipython",
    "version": 3
   },
   "file_extension": ".py",
   "mimetype": "text/x-python",
   "name": "python",
   "nbconvert_exporter": "python",
   "pygments_lexer": "ipython3",
   "version": "3.13.2"
  }
 },
 "nbformat": 4,
 "nbformat_minor": 5
}
